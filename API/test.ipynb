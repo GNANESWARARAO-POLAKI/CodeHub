{
 "cells": [
  {
   "cell_type": "code",
   "execution_count": 5,
   "metadata": {},
   "outputs": [
    {
     "name": "stdout",
     "output_type": "stream",
     "text": [
      "*                     * \n",
      "* *                 * * \n",
      "* * *             * * * \n",
      "* * * *         * * * * \n",
      "* * * * *     * * * * * \n",
      "* * * * * * * * * * * * \n",
      "* * * * *     * * * * * \n",
      "* * * *         * * * * \n",
      "* * *             * * * \n",
      "* *                 * * \n",
      "*                     * \n"
     ]
    }
   ],
   "source": [
    "N = int(input())\n",
    "\n",
    "for i in range(1, N + 1):\n",
    "    left_stars = \"* \" * i\n",
    "    spaces = \"  \" * (2 * (N - i))\n",
    "    right_stars = \"* \" * i\n",
    "    print(left_stars + spaces + right_stars)\n",
    "\n",
    "for i in range(N - 1, 0, -1):\n",
    "    left_stars = \"* \" * i\n",
    "    spaces = \"  \" * (2 * (N - i))\n",
    "    right_stars = \"* \" * i\n",
    "    print(left_stars + spaces + right_stars)\n",
    "\n"
   ]
  },
  {
   "cell_type": "code",
   "execution_count": 2,
   "metadata": {},
   "outputs": [
    {
     "ename": "ValueError",
     "evalue": "invalid literal for int() with base 10: \"dd'\"",
     "output_type": "error",
     "traceback": [
      "\u001b[1;31m---------------------------------------------------------------------------\u001b[0m",
      "\u001b[1;31mValueError\u001b[0m                                Traceback (most recent call last)",
      "Cell \u001b[1;32mIn[2], line 2\u001b[0m\n\u001b[0;32m      1\u001b[0m \u001b[38;5;66;03m#write your code here\u001b[39;00m\n\u001b[1;32m----> 2\u001b[0m n \u001b[38;5;241m=\u001b[39m \u001b[38;5;28;43mint\u001b[39;49m\u001b[43m(\u001b[49m\u001b[38;5;28;43minput\u001b[39;49m\u001b[43m(\u001b[49m\u001b[43m)\u001b[49m\u001b[43m)\u001b[49m\n\u001b[0;32m      3\u001b[0m l \u001b[38;5;241m=\u001b[39m \u001b[38;5;28mlist\u001b[39m(\u001b[38;5;28mmap\u001b[39m(\u001b[38;5;28mint\u001b[39m,\u001b[38;5;28minput\u001b[39m()\u001b[38;5;241m.\u001b[39msplit()))\n\u001b[0;32m      4\u001b[0m maxm\u001b[38;5;241m=\u001b[39m\u001b[38;5;241m-\u001b[39m\u001b[38;5;241m1\u001b[39m\n",
      "\u001b[1;31mValueError\u001b[0m: invalid literal for int() with base 10: \"dd'\""
     ]
    }
   ],
   "source": [
    "#write your code here\n",
    "n = int(input())\n",
    "l = list(map(int,input().split()))\n",
    "maxm=-1\n",
    "for i in range(n):\n",
    " for j in range(i+1,n):\n",
    "  #cur+=1\n",
    "  if l[j]<l[i]:\n",
    "   break\n",
    "  cur = 1\n",
    "  if cur*l[i]>maxm:\n",
    "   maxm = cur*l[i]\n",
    "print(maxm)\n",
    " "
   ]
  },
  {
   "cell_type": "code",
   "execution_count": 15,
   "metadata": {},
   "outputs": [],
   "source": [
    "equation = input().strip()\n",
    "A, B = equation.split(\"*\")\n",
    "B, C = B.split(\"=\")\n",
    "\n",
    "A, B, C = A.strip(), B.strip(), C.strip()  # Remove any extra spaces\n",
    "\n",
    "for digit in range(10):\n",
    "    if 'X' in A:\n",
    "        num = A.replace('X', str(digit))\n",
    "        if num.isdigit() and int(num) * int(B) == int(C):\n",
    "            print(digit)\n",
    "            break\n",
    "    elif 'X' in B:\n",
    "        num = B.replace('X', str(digit))\n",
    "        if num.isdigit() and int(A) * int(num) == int(C):\n",
    "            print(digit)\n",
    "            break\n",
    "    else:\n",
    "        num = C.replace('X', str(digit))\n",
    "        if num.isdigit() and int(A) * int(B) == int(num):\n",
    "            print(digit)\n",
    "            break\n"
   ]
  },
  {
   "cell_type": "code",
   "execution_count": 12,
   "metadata": {},
   "outputs": [
    {
     "name": "stdout",
     "output_type": "stream",
     "text": [
      "True\n"
     ]
    }
   ],
   "source": [
    "print('03'.isdigit())"
   ]
  },
  {
   "cell_type": "code",
   "execution_count": 18,
   "metadata": {},
   "outputs": [
    {
     "ename": "TypeError",
     "evalue": "cannot unpack non-iterable ListNode object",
     "output_type": "error",
     "traceback": [
      "\u001b[1;31m---------------------------------------------------------------------------\u001b[0m",
      "\u001b[1;31mTypeError\u001b[0m                                 Traceback (most recent call last)",
      "Cell \u001b[1;32mIn[18], line 53\u001b[0m\n\u001b[0;32m     50\u001b[0m matrix \u001b[38;5;241m=\u001b[39m [\u001b[38;5;28mlist\u001b[39m(\u001b[38;5;28mmap\u001b[39m(\u001b[38;5;28mint\u001b[39m, \u001b[38;5;28minput\u001b[39m()\u001b[38;5;241m.\u001b[39msplit())) \u001b[38;5;28;01mfor\u001b[39;00m _ \u001b[38;5;129;01min\u001b[39;00m \u001b[38;5;28mrange\u001b[39m(m)]\n\u001b[0;32m     52\u001b[0m head \u001b[38;5;241m=\u001b[39m create_linked_list(matrix)\n\u001b[1;32m---> 53\u001b[0m head \u001b[38;5;241m=\u001b[39m \u001b[43mdelete_middle\u001b[49m\u001b[43m(\u001b[49m\u001b[43mhead\u001b[49m\u001b[43m)\u001b[49m\n\u001b[0;32m     54\u001b[0m print_linked_list(head)\n",
      "Cell \u001b[1;32mIn[18], line 24\u001b[0m, in \u001b[0;36mdelete_middle\u001b[1;34m(head)\u001b[0m\n\u001b[0;32m     21\u001b[0m \u001b[38;5;28;01mif\u001b[39;00m \u001b[38;5;129;01mnot\u001b[39;00m head \u001b[38;5;129;01mor\u001b[39;00m \u001b[38;5;129;01mnot\u001b[39;00m head\u001b[38;5;241m.\u001b[39mnext:  \n\u001b[0;32m     22\u001b[0m     \u001b[38;5;28;01mreturn\u001b[39;00m \u001b[38;5;28;01mNone\u001b[39;00m  \n\u001b[1;32m---> 24\u001b[0m slow, fast \u001b[38;5;241m=\u001b[39m head\n\u001b[0;32m     25\u001b[0m prev \u001b[38;5;241m=\u001b[39m \u001b[38;5;28;01mNone\u001b[39;00m\n\u001b[0;32m     27\u001b[0m \u001b[38;5;28;01mwhile\u001b[39;00m fast \u001b[38;5;129;01mand\u001b[39;00m fast\u001b[38;5;241m.\u001b[39mnext:\n",
      "\u001b[1;31mTypeError\u001b[0m: cannot unpack non-iterable ListNode object"
     ]
    }
   ],
   "source": [
    "#write your code here\n",
    "class ListNode:\n",
    "    def __init__(self, val=0, next=None):\n",
    "        self.val = val\n",
    "        self.next = next\n",
    "\n",
    "def create_linked_list(matrix):\n",
    "    flat_list = [num for row in matrix for num in row]\n",
    "    \n",
    "    if not flat_list:  \n",
    "        return None  \n",
    "\n",
    "    dummy = ListNode()\n",
    "    current = dummy\n",
    "    for num in flat_list:\n",
    "        current.next = ListNode(num)\n",
    "        current = current.next\n",
    "    return dummy.next\n",
    "\n",
    "def delete_middle(head):\n",
    "    if not head or not head.next:  \n",
    "        return None  \n",
    "\n",
    "    slow, fast = head\n",
    "    prev = None\n",
    "\n",
    "    while fast and fast.next:\n",
    "        prev = slow\n",
    "        slow = slow.next\n",
    "        fast = fast.next.next\n",
    "\n",
    "    if prev:\n",
    "        prev.next = slow.next  \n",
    "    else:\n",
    "        head = slow.next  \n",
    "\n",
    "    return head  \n",
    "\n",
    "def print_linked_list(head):\n",
    "    if not head:  \n",
    "        print(-1)  \n",
    "        return  \n",
    "\n",
    "    while head:\n",
    "        print(head.val, end=\" \")\n",
    "        head = head.next\n",
    "    print()\n",
    "\n",
    "m, n = map(int, input().split())\n",
    "matrix = [list(map(int, input().split())) for _ in range(m)]\n",
    "\n",
    "head = create_linked_list(matrix)\n",
    "head = delete_middle(head)\n",
    "print_linked_list(head)\n"
   ]
  }
 ],
 "metadata": {
  "kernelspec": {
   "display_name": "Python 3",
   "language": "python",
   "name": "python3"
  },
  "language_info": {
   "codemirror_mode": {
    "name": "ipython",
    "version": 3
   },
   "file_extension": ".py",
   "mimetype": "text/x-python",
   "name": "python",
   "nbconvert_exporter": "python",
   "pygments_lexer": "ipython3",
   "version": "3.12.2"
  }
 },
 "nbformat": 4,
 "nbformat_minor": 2
}
